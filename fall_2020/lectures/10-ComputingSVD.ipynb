{
 "cells": [
  {
   "cell_type": "markdown",
   "metadata": {
    "slideshow": {
     "slide_type": "slide"
    }
   },
   "source": [
    "# Computing SVD"
   ]
  },
  {
   "cell_type": "code",
   "execution_count": 1,
   "metadata": {
    "slideshow": {
     "slide_type": "skip"
    }
   },
   "outputs": [
    {
     "name": "stdout",
     "output_type": "stream",
     "text": [
      "\n"
     ]
    }
   ],
   "source": [
    "%matplotlib inline\n",
    "%config InlineBackend.figure_format='retina'\n",
    "# import libraries\n",
    "import numpy as np\n",
    "import matplotlib as mp\n",
    "import pandas as pd\n",
    "import matplotlib.pyplot as plt\n",
    "import pandas as pd\n",
    "import slideUtilities as sl\n",
    "import laUtilities as ut\n",
    "import seaborn as sns\n",
    "from importlib import reload\n",
    "from datetime import datetime\n",
    "from IPython.display import Image\n",
    "from IPython.display import display_html\n",
    "from IPython.display import display\n",
    "from IPython.display import Math\n",
    "from IPython.display import Latex\n",
    "from IPython.display import HTML\n",
    "print('')"
   ]
  },
  {
   "cell_type": "code",
   "execution_count": 2,
   "metadata": {
    "slideshow": {
     "slide_type": "skip"
    }
   },
   "outputs": [
    {
     "data": {
      "text/html": [
       "<style>\n",
       " .container.slides .celltoolbar, .container.slides .hide-in-slideshow {\n",
       "    display: None ! important;\n",
       "}\n",
       "</style>\n"
      ],
      "text/plain": [
       "<IPython.core.display.HTML object>"
      ]
     },
     "metadata": {},
     "output_type": "display_data"
    }
   ],
   "source": [
    "%%html\n",
    "<style>\n",
    " .container.slides .celltoolbar, .container.slides .hide-in-slideshow {\n",
    "    display: None ! important;\n",
    "}\n",
    "</style>"
   ]
  },
  {
   "cell_type": "markdown",
   "metadata": {
    "slideshow": {
     "slide_type": "skip"
    }
   },
   "source": [
    "%Set up useful MathJax (Latex) macros.\n",
    "%See http://docs.mathjax.org/en/latest/tex.html#defining-tex-macros\n",
    "%These are for use in the slideshow\n",
    "$\\newcommand{\\mat}[1]{\\left[\\begin{array}#1\\end{array}\\right]}$\n",
    "$\\newcommand{\\vx}{{\\mathbf x}}$\n",
    "$\\newcommand{\\hx}{\\hat{\\mathbf x}}$\n",
    "$\\newcommand{\\vbt}{{\\mathbf\\beta}}$\n",
    "$\\newcommand{\\vy}{{\\mathbf y}}$\n",
    "$\\newcommand{\\vz}{{\\mathbf z}}$\n",
    "$\\newcommand{\\R}{{\\mathbb{R}}}$\n",
    "$\\newcommand{\\vu}{{\\mathbf u}}$\n",
    "$\\newcommand{\\vv}{{\\mathbf v}}$\n",
    "$\\newcommand{\\vw}{{\\mathbf w}}$\n",
    "$\\newcommand{\\col}{{\\operatorname{Col}}}$\n",
    "$\\newcommand{\\nul}{{\\operatorname{Nul}}}$\n",
    "$\\newcommand{\\vb}{{\\mathbf b}}$\n",
    "$\\newcommand{\\va}{{\\mathbf a}}$\n",
    "$\\newcommand{\\ve}{{\\mathbf e}}$\n",
    "$\\newcommand{\\setb}{{\\mathcal{B}}}$\n",
    "$\\newcommand{\\rank}{{\\operatorname{rank}}}$\n",
    "$\\newcommand{\\vp}{{\\mathbf p}}$"
   ]
  },
  {
   "cell_type": "raw",
   "metadata": {
    "slideshow": {
     "slide_type": "skip"
    }
   },
   "source": [
    "\\newcommand{\\mat}[1]{\\left[\\begin{array}#1\\end{array}\\right]}\n",
    "\\newcommand{\\vx}{{\\mathbf x}}\n",
    "\\newcommand{\\hx}{\\hat{\\mathbf x}}\n",
    "\\newcommand{\\vbt}{{\\mathbf\\beta}}\n",
    "\\newcommand{\\vy}{{\\mathbf y}}\n",
    "\\newcommand{\\vz}{{\\mathbf z}}\n",
    "\\newcommand{\\vb}{{\\mathbf b}}\n",
    "\\newcommand{\\vu}{{\\mathbf u}}\n",
    "\\newcommand{\\vv}{{\\mathbf v}}\n",
    "\\newcommand{\\vw}{{\\mathbf w}}\n",
    "\\newcommand{\\va}{{\\mathbf a}}\n",
    "\\newcommand{\\ve}{{\\mathbf e}}\n",
    "\\newcommand{\\vp}{{\\mathbf p}}\n",
    "\\newcommand{\\R}{{\\mathbb{R}}}\n",
    "\\newcommand{\\col}{{\\operatorname{Col}}}\n",
    "\\newcommand{\\nul}{{\\operatorname{Nul}}}\n",
    "\\newcommand{\\rank}{{\\operatorname{rank}}}\n",
    "\\newcommand{\\setb}{{\\mathcal{B}}}"
   ]
  },
  {
   "cell_type": "markdown",
   "metadata": {
    "slideshow": {
     "slide_type": "slide"
    }
   },
   "source": [
    "As a reminder, here is what the SVD looks like:"
   ]
  },
  {
   "cell_type": "markdown",
   "metadata": {
    "slideshow": {
     "slide_type": "-"
    }
   },
   "source": [
    "$$ \\mbox{objects}\\left\\{\\begin{array}{c}\\;\\\\\\;\\\\\\;\\\\\\;\\\\\\;\\end{array}\\right.\\;\\;\\overbrace{\\left[\\begin{array}{cccc}\\begin{array}{c}\\vdots\\\\\\vdots\\\\{\\bf a_1}\\\\\\vdots\\\\\\vdots\\end{array}&\\begin{array}{c}\\vdots\\\\\\vdots\\\\{\\bf a_2}\\\\\\vdots\\\\\\vdots\\end{array}&\\dots&\\begin{array}{c}\\vdots\\\\\\vdots\\\\{\\bf a_n}\\\\\\vdots\\\\\\vdots\\end{array}\\\\\\end{array}\\right]}^{\\mbox{features}} =\n",
    "\\overbrace{\\left[\\begin{array}{cc}\\vdots&\\vdots\\\\\\vdots&\\vdots\\\\\\sigma_1\\vu_1&\\sigma_k\\vu_k\\\\\\vdots&\\vdots\\\\\\vdots&\\vdots\\end{array}\\right]}^{\\large k}\n",
    "\\times\n",
    "\\left[\\begin{array}{ccccc}\\dots&\\dots&\\vv_1&\\dots&\\dots\\\\\\dots&\\dots&\\vv_k&\\dots&\\dots\\end{array}\\right]$$\n",
    "\n",
    "\n",
    "$$ A = U\\Sigma V^T$$"
   ]
  },
  {
   "cell_type": "markdown",
   "metadata": {
    "slideshow": {
     "slide_type": "slide"
    }
   },
   "source": [
    "More formally: Let $A$ be an $m\\times n$ matrix with $m \\leq n$.\n",
    "Recall that by Singular Value Decomposition there exist matrices $U_{m x m}$, $\\\n",
    "\\Sigma_{m x n}$, $V_{n x n}$, with $A = U \\Sigma V^T$,\n",
    "where $U$ and $V$ have orthonormal columns, and $\\Sigma$ is diagonal. "
   ]
  },
  {
   "cell_type": "markdown",
   "metadata": {
    "slideshow": {
     "slide_type": "fragment"
    }
   },
   "source": [
    "**Claim 1:** For a square symmetric matrix $M$, any two eigen-vectors $\\mathbf{v}_1$, $\\mathbf{v}_2$\n",
    " with distinct eigen-values $\\lambda_1$, $\\lambda_2$, are orthogonal, i.e. inner product of $\\mathbf{v}_1$ and $\\mathbf{v}_2$ is zero."
   ]
  },
  {
   "cell_type": "markdown",
   "metadata": {
    "slideshow": {
     "slide_type": "fragment"
    }
   },
   "source": [
    "**Proof:** Since $\\mathbf{v}_1$ is an eigenvector of $M$, we have that:\n",
    "\n",
    "$$M\\mathbf{v}_1 = \\lambda_1 \\mathbf{v}_1$$\n",
    "\n",
    "Now we get that\n",
    "\n",
    "$$M\\mathbf{v}_1\\cdot \\mathbf{v}_2 = \\lambda_1\\mathbf{v}_1\\cdot \\mathbf{v}_2.$$\n",
    "\n",
    "We also know that\n",
    "\n",
    "$$M\\mathbf{v}_1\\cdot \\mathbf{v}_2 = \\mathbf{v}_1\\cdot M^T\\mathbf{v}_2 = \\mathbf{v}_1\\cdot M\\mathbf{v}_2 = \\mathbf{v}_1\\cdot \\lambda_2\\mathbf{v}_2.$$\n",
    "\n",
    "That is,\n",
    "\n",
    "$$M\\mathbf{v}_1\\cdot \\mathbf{v}_2 = \\lambda_2\\mathbf{v}_1\\cdot \\mathbf{v}_2.$$\n",
    "\n",
    "Thus,\n",
    "\n",
    "$\\lambda_1\\mathbf{v}_1\\cdot \\mathbf{v}_2 = \\lambda_2\\mathbf{v}_1\\cdot \\mathbf{v}_2$.\n",
    "\n",
    "Since $\\lambda_1\\neq \\lambda_2$, $\\mathbf{v}_1\\cdot \\mathbf{v}_2=0$ and therefore the two vectors are orthogonal."
   ]
  },
  {
   "cell_type": "markdown",
   "metadata": {
    "slideshow": {
     "slide_type": "slide"
    }
   },
   "source": [
    "**Claim 2:** Matrices $AA^T$ and $A^TA$ are symmetric"
   ]
  },
  {
   "cell_type": "markdown",
   "metadata": {
    "slideshow": {
     "slide_type": "fragment"
    }
   },
   "source": [
    "**Proof:** It is enough to show that $C=AA^T$ is equal to $C^T = (AA^T)^T$:\n",
    "\n",
    "$$C^T = (AA^T)^T = (A^T)^TA^T = AA^T = C.$$\n",
    "\n",
    "The proof is the same for $A^TA$"
   ]
  },
  {
   "cell_type": "markdown",
   "metadata": {
    "slideshow": {
     "slide_type": "slide"
    }
   },
   "source": [
    "**Claim 3:** Show that if $A = U\\Sigma V^T$, then $AA^T=U\\Sigma ^2 U^T$ and $U^{-1}=U^T$."
   ]
  },
  {
   "cell_type": "markdown",
   "metadata": {
    "slideshow": {
     "slide_type": "fragment"
    }
   },
   "source": [
    "**Proof:** First we need to show that $U^{-1}=U^T$. For this, we have that:\n",
    "\n",
    "$U^TU = \\left[\\begin{array}{cccc}\\begin{array}{c}\\mathbf{u}_1\\cdot \\mathbf{u}_1\\\\ \\mathbf{u}_2\\cdot\\mathbf{u}_1\\\\ \\vdots\\end{array}&\\begin{array}{c}\\mathbf{u}_1\\cdot \\mathbf{u}_2\\\\ \\mathbf{u}_2\\cdot\\mathbf{u}_2\\\\ \\vdots\\end{array}\n",
    "& \\begin{array}{c}\\ldots\\\\ \\ldots\\\\ \\vdots\\end{array}\n",
    "\\end{array}\\right]$\n",
    "\n",
    "Since we know that the columns of $U$ are orthonormal we know that $\\mathbf{u}_i\\cdot \\mathbf{u}_i=1$ and\n",
    "$\\mathbf{u}_i\\cdot \\mathbf{u}_j=0$ for $i\\neq j$. Therefore $U^TU=I$ and thus $U^{-1}=U^T$.\n",
    "\n",
    "\n",
    "Similar for $V$: $V^{-1}=V^T$.\n",
    "\n",
    "As a result of the above we have that:\n",
    "\n",
    "$$ AA^T = U\\Sigma V^T\\left(U\\Sigma V^T\\right)^T =U\\Sigma V^T V \\Sigma U^T = U\\Sigma^2 U^T= U\\Sigma^2U^{-1}.$$\n",
    "\n",
    "Similarly:\n",
    "\n",
    "$$A^TA = V\\Sigma^2 V^T=V\\Sigma^2V^{-1}$$"
   ]
  },
  {
   "cell_type": "markdown",
   "metadata": {},
   "source": [
    "$M$ symmetric matrix\n",
    "\n",
    "$M = X\\Lambda X^{-1}$\n",
    "\n",
    "$X$ has as columns the eigenvectors of $M$\n",
    "\n",
    "$\\Lambda$ is a diagonal matrix with diagonal entries $\\lambda_1,\\lambda_2....$ being the eigenvalues of $M$"
   ]
  },
  {
   "cell_type": "markdown",
   "metadata": {
    "slideshow": {
     "slide_type": "slide"
    }
   },
   "source": [
    "Does the above discussion imply an algorithm for SVD?"
   ]
  },
  {
   "cell_type": "markdown",
   "metadata": {
    "slideshow": {
     "slide_type": "slide"
    }
   },
   "source": [
    "### The power method"
   ]
  },
  {
   "cell_type": "markdown",
   "metadata": {
    "slideshow": {
     "slide_type": "fragment"
    }
   },
   "source": [
    "1. Generate $\\mathbf{x}_0(i)=\\mathcal{N}(0,1)$ and set $\\mathbf{x}_0 = \\mathbf{x}_0/||\\mathbf{x}_0||$\n",
    "2. For $i=1\\ldots s$ (Repeat)\n",
    "\n",
    "    $\\mathbf{x}_i = A^TA\\mathbf{x}_{i-1}$\n",
    "    \n",
    "    $\\mathbf{x}_i = \\mathbf{x}_i/||\\mathbf{x}_i||$\n",
    "    \n",
    "    \n",
    "    $\\delta_i= ||A^TA - \\mathbf{x}_i\\sigma^2\\mathbf{x}_i^T||$\n",
    "    \n",
    "    (until $\\delta_{i-1}-\\delta_i\\approx 0$)\n",
    "    \n",
    "3. $\\mathbf{v}_1 = \\mathbf{x}_i$\n",
    "4. $\\sigma_1 = ||A\\mathbf{v}_1||$\n",
    "5. $\\mathbf{u}_1 = A\\mathbf{v}_1/\\sigma_1$\n",
    "\n",
    "$A = A - \\mathbf{u}_1\\sigma_1\\mathbf{v}_1^T$"
   ]
  },
  {
   "cell_type": "markdown",
   "metadata": {},
   "source": [
    "The number of iterations depends on $\\min_{i<j}\\frac{\\sigma_i}{\\sigma_j}$\n"
   ]
  },
  {
   "cell_type": "markdown",
   "metadata": {},
   "source": [
    "\n",
    "\n",
    "$A = U\\Sigma V^T = U\\Sigma V^{-1}\\rightarrow AV = U\\Sigma$\n",
    "\n",
    "Thus,\n",
    "\n",
    "$A\\mathbf{v}_1 = \\mathbf{u}_1\\sigma_1 \\rightarrow \\sigma_1 = ||A\\mathbf{v}_1||$ (explanation of line 4)\n",
    "\n",
    "$A = \\sigma_1 \\mathbf{u}_1\\mathbf{v_1}^T$\n",
    "\n",
    "$A\\mathbf{v}_1 = \\sigma_1 \\mathbf{u}_1\\mathbf{v_1}^T\\mathbf{v}_1 \\rightarrow $$\\mathbf{u}_1 = A\\mathbf{v}_1 /\\sigma_1$\n",
    "\n",
    "\n"
   ]
  }
 ],
 "metadata": {
  "anaconda-cloud": {},
  "celltoolbar": "Slideshow",
  "kernelspec": {
   "display_name": "Python 3",
   "language": "python",
   "name": "python3"
  },
  "language_info": {
   "codemirror_mode": {
    "name": "ipython",
    "version": 3
   },
   "file_extension": ".py",
   "mimetype": "text/x-python",
   "name": "python",
   "nbconvert_exporter": "python",
   "pygments_lexer": "ipython3",
   "version": "3.7.4"
  }
 },
 "nbformat": 4,
 "nbformat_minor": 1
}
